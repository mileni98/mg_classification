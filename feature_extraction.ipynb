{
 "cells": [
  {
   "cell_type": "markdown",
   "metadata": {},
   "source": [
    "## Feature Extraction"
   ]
  },
  {
   "cell_type": "code",
   "execution_count": 1,
   "metadata": {},
   "outputs": [],
   "source": [
    "import os\n",
    "import cv2\n",
    "import shutil\n",
    "import logging\n",
    "import warnings\n",
    "import radiomics\n",
    "import numpy as np\n",
    "import pandas as pd\n",
    "\n",
    "from tqdm import tqdm\n",
    "from dotenv import load_dotenv\n",
    "from radiomics import featureextractor\n",
    "\n",
    "# Load environment variables from .env file\n",
    "_ = load_dotenv()"
   ]
  },
  {
   "cell_type": "code",
   "execution_count": 2,
   "metadata": {},
   "outputs": [],
   "source": [
    "# Retrieve environment variables\n",
    "BASE_DIR_NAME, BASE_SCALE_NAMES =  os.getenv('BASE_DIR_NAME'), os.getenv('BASE_SCALE_NAMES').split(',')\n",
    "MASK_DIR_NAME, IMAGE_DIR_NAME = os.getenv('MASK_DIR_NAME'), os.getenv('IMAGE_DIR_NAME')\n",
    "PROCESSED_MASK_DIR_NAME, TARGET_DIR_NAME = os.getenv('PROCESSED_MASK_DIR_NAME'), os.getenv('TARGET_DIR_NAME')"
   ]
  },
  {
   "cell_type": "markdown",
   "metadata": {},
   "source": [
    "### Converting masks"
   ]
  },
  {
   "cell_type": "code",
   "execution_count": 3,
   "metadata": {},
   "outputs": [],
   "source": [
    "def add_black_border(image: np.ndarray, border_thickness: int = 1) -> None:\n",
    "    \"\"\"Add a 1px wide black border to an entirely white image by drawing a white rectangle on a black image\"\"\"\n",
    "\n",
    "    # Dimensions of the white rectangle, having 1px black border\n",
    "    rectangle_width, rectangle_height = image.shape[1] - 2 * border_thickness, image.shape[0] - 2 * border_thickness\n",
    "    \n",
    "    # Calculate the coordinates for the white rectangle\n",
    "    x = (image.shape[1] - rectangle_width) // 2\n",
    "    y = (image.shape[0] - rectangle_height) // 2\n",
    "    \n",
    "    # Draw the white rectangle on the black image\n",
    "    cv2.rectangle(image, (x, y), (x + rectangle_width, y + rectangle_height), (255, 255, 255), -1)"
   ]
  },
  {
   "cell_type": "code",
   "execution_count": 4,
   "metadata": {},
   "outputs": [],
   "source": [
    "def process_masks(mask_dir: str, processed_mask_dir: str, verbose: str = False) -> None:\n",
    "    \"\"\"Process masks by adding a black border to entirely white masks and saving them.\"\"\"\n",
    "\n",
    "    # Get a list of all PNG files in the mask directory\n",
    "    mask_files = [f for f in os.listdir(mask_dir) if f.endswith(\".png\")]\n",
    "  \n",
    "    entirely_white_images = []\n",
    "\n",
    "    # Iterate over all mask files\n",
    "    for mask_filename in tqdm(mask_files, desc = \"Processing masks\", unit = \"file\"):\n",
    "        mask_path = os.path.join(mask_dir, mask_filename)\n",
    "        processed_mask_path = os.path.join(processed_mask_dir, mask_filename)\n",
    "        \n",
    "        # Read the mask image into a numpy array\n",
    "        image = cv2.imread(mask_path)\n",
    "        \n",
    "        # Process the images without tumor (entirely white images which need a black border)\n",
    "        if mask_filename.endswith(\"1.png\"):\n",
    "            add_black_border(image)\n",
    "            cv2.imwrite(processed_mask_path, image)\n",
    "\n",
    "        # Process the images with tumor\n",
    "        elif mask_filename.endswith(\"0.png\"):\n",
    "\n",
    "            # Check if the image is entirely white, if so, add a black border\n",
    "            if (image == 255).all():\n",
    "                entirely_white_images.append(mask_filename)\n",
    "                image.fill(0)\n",
    "                add_black_border(image)\n",
    "\n",
    "            # Save the processed mask\n",
    "            cv2.imwrite(processed_mask_path, image)\n",
    "\n",
    "    if verbose and entirely_white_images:\n",
    "        print(\"List of entirely white images processed:\", entirely_white_images)"
   ]
  },
  {
   "cell_type": "markdown",
   "metadata": {},
   "source": [
    "### Feature extraction"
   ]
  },
  {
   "cell_type": "code",
   "execution_count": 5,
   "metadata": {},
   "outputs": [],
   "source": [
    "def initialize_feature_extractor() -> featureextractor.RadiomicsFeatureExtractor:\n",
    "    \"\"\"Initialize and configure the feature extractor for radiomics feature extraction.\"\"\"\n",
    "    \n",
    "    # Suppress pyradiomics logging and specific warnings\n",
    "    radiomics.logger.setLevel(logging.ERROR)\n",
    "    warnings.filterwarnings(\"ignore\", category=RuntimeWarning)\n",
    "    warnings.filterwarnings(\"ignore\", message=\"Shape features are only available\")\n",
    "\n",
    "    # Initialize and configure the feature extractor\n",
    "    extractor = featureextractor.RadiomicsFeatureExtractor()\n",
    "    #extractor.enableAllFeatures()\n",
    "    #extractor.settings[\"force2D\"] = True\n",
    "\n",
    "    # Enable all the features except 2d and 3d shape features\n",
    "    extractor.disableAllFeatures()\n",
    "    for feature_class in ['firstorder', 'glcm', 'gldm', 'glrlm', 'glszm', 'ngtdm']:\n",
    "        extractor.enableFeatureClassByName(feature_class)\n",
    "\n",
    "    # Display configuration details\n",
    "    print(\"Extractor parameters:\", extractor.enabledFeatures)\n",
    "    print('Extractor settings:', extractor.settings)\n",
    "\n",
    "    return extractor"
   ]
  },
  {
   "cell_type": "code",
   "execution_count": 6,
   "metadata": {},
   "outputs": [],
   "source": [
    "def extract_features(image_dir: str, processed_mask_dir: str, use_template_mask: bool, extractor: featureextractor.RadiomicsFeatureExtractor) -> pd.DataFrame:\n",
    "    \"\"\"Extract radiomics features for all images in the specified directory.\"\"\"\n",
    "    \n",
    "    # Get a list of all PNG files in the image directory\n",
    "    image_files = [f for f in os.listdir(image_dir) if f.endswith(\".png\")]\n",
    "    features_list, errors = [], []\n",
    "    \n",
    "    # If use_template_mask is enabled, define the template mask path once\n",
    "    template_mask_path = os.path.join(processed_mask_dir, 'auth_001-000061_001-000061_MG_BL_Series-8_Image-1-1.png') if use_template_mask else None\n",
    "    mask_description = \"without lesion mask\" if use_template_mask else \"with lesion mask\"\n",
    "\n",
    "    # Iterate over all image files\n",
    "    for filename in tqdm(image_files, desc=f\"Extracting features {mask_description}\", unit=\"file\"):\n",
    "        try:\n",
    "            image_path = os.path.join(image_dir, filename)\n",
    "            processed_mask_path = os.path.join(processed_mask_dir, filename) if not use_template_mask else template_mask_path\n",
    "\n",
    "            # Extract features for the current image\n",
    "            features = extractor.execute(image_path, processed_mask_path, label = 255)\n",
    "\n",
    "            # Convert features to a DataFrame row\n",
    "            features_row_df = pd.DataFrame([features])\n",
    "\n",
    "            # Extract additional metadata from the filename\n",
    "            filename_parts = filename.split(\"_\")\n",
    "            features_row_df['name'] = filename\n",
    "            features_row_df['provider'] = filename_parts[0]\n",
    "            features_row_df['patient'] = filename_parts[1].split(\"-\")[1]\n",
    "            features_row_df['class'] = filename_parts[-1].split(\".\")[0].split(\"-\")[-1]\n",
    "            \n",
    "            features_list.append(features_row_df)\n",
    "\n",
    "        except Exception as e:\n",
    "            errors.append((filename, str(e)))\n",
    "            \n",
    "    # Concatenate all feature rows into a single DataFrame\n",
    "    features_df = pd.concat(features_list, ignore_index=True)\n",
    "    return features_df, errors"
   ]
  },
  {
   "cell_type": "markdown",
   "metadata": {},
   "source": [
    "### Main section"
   ]
  },
  {
   "cell_type": "code",
   "execution_count": 7,
   "metadata": {},
   "outputs": [],
   "source": [
    "def process_and_extract_features():\n",
    "    \n",
    "    # Initialize the feature extractor and define an empty list to store errors\n",
    "    extractor = initialize_feature_extractor()\n",
    "    all_errors = []\n",
    "\n",
    "    # Iterate over each scale \n",
    "    for scale_name in BASE_SCALE_NAMES:\n",
    "        print(f\"\\n{'=' * 75}\\n Starting processing for scale: {scale_name}\\n{'=' * 75}\\n\")\n",
    "\n",
    "        # Define the base directory for the current scale\n",
    "        base_dir = os.path.join(os.getcwd(), BASE_DIR_NAME, scale_name)\n",
    "\n",
    "        # Define the image and mask directories\n",
    "        image_dir, mask_dir = os.path.join(base_dir, IMAGE_DIR_NAME), os.path.join(base_dir, MASK_DIR_NAME)\n",
    "        processed_mask_dir = os.path.join(base_dir, PROCESSED_MASK_DIR_NAME)\n",
    "\n",
    "        # Recreate the 'processed_mask' directory if it exists, or create it if it doesn't\n",
    "        if os.path.exists(processed_mask_dir):\n",
    "            shutil.rmtree(processed_mask_dir)\n",
    "        os.makedirs(processed_mask_dir)\n",
    "\n",
    "        # Process masks and extract features\n",
    "        process_masks(mask_dir, processed_mask_dir, verbose=True)\n",
    "\n",
    "        # Extract features for both mask types\n",
    "        for mask_type, name in [(True, \"full_mask\"), (False, \"lesion_mask\")]:\n",
    "            # Extract features for the current mask type\n",
    "            features_df, errors = extract_features(image_dir, processed_mask_dir, use_template_mask=mask_type, extractor=extractor)\n",
    "            all_errors.extend(errors)\n",
    "\n",
    "            # Save the features to a CSV file in the target directory\n",
    "            os.makedirs(TARGET_DIR_NAME, exist_ok=True)\n",
    "            features_df.to_csv(os.path.join(TARGET_DIR_NAME, f'features_{scale_name}_{name}.csv'), index=False)\n",
    "            print(f\"Feature extraction completed. Data saved to 'features_{scale_name}_{name}.csv' file.\")"
   ]
  },
  {
   "cell_type": "code",
   "execution_count": 8,
   "metadata": {},
   "outputs": [
    {
     "name": "stdout",
     "output_type": "stream",
     "text": [
      "Extractor parameters: {'firstorder': [], 'glcm': [], 'gldm': [], 'glrlm': [], 'glszm': [], 'ngtdm': []}\n",
      "Extractor settings: {'minimumROIDimensions': 2, 'minimumROISize': None, 'normalize': False, 'normalizeScale': 1, 'removeOutliers': None, 'resampledPixelSpacing': None, 'interpolator': 'sitkBSpline', 'preCrop': False, 'padDistance': 5, 'distances': [1], 'force2D': False, 'force2Ddimension': 0, 'resegmentRange': None, 'label': 1, 'additionalInfo': True}\n",
      "\n",
      "===========================================================================\n",
      " Starting processing for scale: 128\n",
      "===========================================================================\n",
      "\n"
     ]
    },
    {
     "name": "stderr",
     "output_type": "stream",
     "text": [
      "Processing masks: 100%|██████████| 2798/2798 [00:01<00:00, 1963.97file/s]\n"
     ]
    },
    {
     "name": "stdout",
     "output_type": "stream",
     "text": [
      "List of entirely white images processed: ['auth_001-000068_001-000068_MG_BL_Series-2_Image-1-0.png', 'auth_001-000078_001-000078_MG_BL_Series-3_Image-1-0.png', 'auth_001-000078_001-000078_MG_TP1_1_Series-2_Image-1-0.png', 'auth_001-000082_001-000082_MG_TP1_1_Series-2_Image-1-0.png', 'auth_001-000084_001-000084_MG_BL_Series-1_Image-1-0.png', 'hcs_003-000243_003-000243_MG_BL_Series-2_Image-3-0.png', 'hcs_003-000248_003-000248_MG_BL_Series-2_Image-1-0.png', 'hcs_003-000249_003-000249_MG_BL_Series-2_Image-2-0.png', 'hcs_003-000251_003-000251_MG_BL_Series-1_Image-1-0.png', 'hcs_003-000251_003-000251_MG_BL_Series-3_Image-1-0.png', 'hcs_003-000255_003-000255_MG_BL_Series-2_Image-1-0.png', 'hcs_003-000255_003-000255_MG_TP2_Series-2_Image-1-0.png', 'hcs_003-000256_003-000256_MG_BL_Series-3_Image-1-0.png', 'hcs_003-000256_003-000256_MG_BL_Series-4_Image-1-0.png', 'hcs_003-000257_003-000257_MG_BL_Series-1010_Image-5-0.png', 'hcs_003-000257_003-000257_MG_BL_Series-1010_Image-6-0.png', 'hcs_003-000260_003-000260_MG_BL_Series-2_Image-1-0.png', 'hcs_003-000261_003-000261_MG_TP1_Series-1_Image-1-0.png', 'hcs_003-000261_003-000261_MG_TP1_Series-3_Image-1-0.png', 'hcs_003-000265_003-000265_MG_BL_Series-2_Image-1-0.png', 'hcs_003-000270_003-000270_MG_BL_Series-1_Image-1-0.png', 'hcs_003-000279_003-000279_MG_BL_Series-2_Image-1-0.png', 'hcs_003-000279_003-000279_MG_BL_Series-4_Image-1-0.png', 'hcs_003-000279_003-000279_MG_TP1_Series-2_Image-1-0.png', 'hcs_003-000286_003-000286_MG_BL_Series-1010_Image-1-0.png', 'hcs_003-000286_003-000286_MG_BL_Series-1010_Image-2-0.png', 'hcs_003-000295_003-000295_MG_BL_Series-1008_Image-1-0.png', 'hcs_003-000297_003-000297_MG_BL_Series-4_Image-1-0.png', 'hcs_003-000297_003-000297_MG_TP2_Series-2_Image-1-0.png', 'hcs_003-000297_003-000297_MG_TP2_Series-4_Image-1-0.png', 'hcs_003-000303_003-000303_MG_BL_Series-1_Image-1-0.png', 'hcs_003-000303_003-000303_MG_BL_Series-3_Image-1-0.png', 'hcs_003-000307_003-000307_MG_BL_Series-4_Image-1-0.png', 'hcs_003-000309_003-000309_MG_BL_Series-1011_Image-1-0.png', 'hcs_003-000309_003-000309_MG_BL_Series-1011_Image-3-0.png', 'hcs_003-000619_003-000619_MG_BL_Series-1001_Image-1001-0.png', 'hcs_003-000626_003-000626_MG_TP0_1_Series-1002_Image-1002-0.png', 'hcs_003-000633_003-000633_MG_BL_Series-1350_Image-1350-0.png', 'hcs_003-000636_003-000636_MG_BL_Series-1001_Image-1004-0.png', 'hcs_003-000637_003-000637_MG_BL_Series-1001_Image-1001-0.png', 'hcs_003-000640_003-000640_MG_BL_Series-1347_Image-1347-0.png', 'hcs_003-000651_003-000651_MG_BL_Series-1001_Image-1002-0.png', 'hcs_003-000651_003-000651_MG_BL_Series-1001_Image-1004-0.png', 'hcs_003-000657_003-000657_MG_BL_Series-1694_Image-1694-0.png', 'hcs_003-000667_003-000667_MG_BL_Series-1001_Image-1001-0.png', 'hcs_003-000672_003-000672_MG_BL_Series-1001_Image-1001-0.png', 'hcs_003-000672_003-000672_MG_BL_Series-1002_Image-1002-0.png', 'hcs_003-000672_003-000672_MG_TP2_Series-1001_Image-1002-0.png', 'hcs_003-000673_003-000673_MG_BL_Series-1001_Image-1001-0.png', 'hcs_003-000673_003-000673_MG_BL_Series-1002_Image-1002-0.png', 'hcs_003-000673_003-000673_MG_TP1_Series-1001_Image-1001-0.png', 'hcs_003-000674_003-000674_MG_BL_Series-1001_Image-1002-0.png', 'hcs_003-000674_003-000674_MG_BL_Series-1001_Image-1004-0.png', 'hcs_003-000680_003-000680_MG_BL_Series-1001_Image-1003-0.png', 'hcs_003-000684_003-000684_MG_BL_Series-1001_Image-1003-0.png', 'hcs_003-000685_003-000685_MG_BL_Series-1001_Image-1004-0.png', 'hcs_003-000687_003-000687_MG_BL_Series-1001_Image-1002-0.png', 'hcs_003-000689_003-000689_MG_BL_Series-1001_Image-1003-0.png', 'hcs_003-001172_003-001172_MG_BL_Series-1001_Image-1001-0.png', 'hcs_003-001196_003-001196_MG_BL_Series-1001_Image-1002-0.png', 'hcs_003-001203_003-001203_MG_BL_Series-1001_Image-1004-0.png', 'hcs_003-001204_003-001204_MG_BL_Series-1001_Image-1002-0.png', 'hcs_003-001205_003-001205_MG_BL_Series-1004_Image-1004-0.png', 'hcs_003-001206_003-001206_MG_BL_Series-1694_Image-1694-0.png', 'hcs_003-001208_003-001208_MG_BL_Series-1001_Image-1004-0.png', 'hcs_003-001210_003-001210_MG_BL_Series-1001_Image-1003-0.png', 'hcs_003-001222_003-001222_MG_BL_Series-1001_Image-1001-0.png', 'hcs_003-001222_003-001222_MG_BL_Series-1002_Image-1002-0.png', 'hcs_003-001222_003-001222_MG_TP2_Series-1001_Image-1001-0.png', 'hcs_003-001224_003-001224_MG_BL_Series-11388_Image-11388-0.png', 'hcs_003-001309_003-001309_MG_TP0_1_Series-1347_Image-1347-0.png', 'hcs_003-001309_003-001309_MG_TP0_1_Series-1694_Image-1694-0.png', 'hcs_003-001310_003-001310_MG_BL_Series-1001_Image-1001-0.png', 'hcs_003-001312_003-001312_MG_BL_Series-1001_Image-1004-0.png', 'hcs_003-001320_003-001320_MG_BL_Series-1001_Image-1004-0.png', 'hcs_003-001325_003-001325_MG_BL_Series-1001_Image-1002-0.png', 'hcs_003-001325_003-001325_MG_BL_Series-1001_Image-1004-0.png', 'hcs_003-001326_003-001326_MG_BL_Series-1348_Image-1348-0.png', 'hcs_003-001353_003-001353_MG_BL_Series-1001_Image-1002-0.png', 'hcs_003-001367_003-001367_MG_BL_Series-1001_Image-1003-0.png', 'hcs_003-001369_003-001369_MG_BL_Series-1001_Image-1001-0.png', 'hcs_003-001369_003-001369_MG_BL_Series-1001_Image-1003-0.png', 'hcs_003-001371_003-001371_MG_BL_Series-1001_Image-1001-0.png', 'hcs_003-001371_003-001371_MG_BL_Series-1001_Image-1003-0.png', 'hcs_003-001379_003-001379_MG_BL_Series-1001_Image-1001-0.png', 'hcs_003-001379_003-001379_MG_BL_Series-1001_Image-1003-0.png', 'hcs_003-001380_003-001380_MG_BL_Series-1001_Image-1001-0.png', 'hcs_003-001824_003-001824_MG_BL_Series-1001_Image-1001-0.png', 'hcs_003-001827_003-001827_MG_BL_Series-11388_Image-11388-0.png', 'hcs_003-001827_003-001827_MG_BL_Series-1347_Image-1347-0.png', 'hcs_003-001830_003-001830_MG_BL_Series-1001_Image-1001-0.png', 'hcs_003-001831_003-001831_MG_BL_Series-1347_Image-1347-0.png', 'hcs_003-001842_003-001842_MG_BL_Series-1001_Image-1004-0.png', 'hcs_003-001846_003-001846_MG_BL_Series-1001_Image-1004-0.png', 'hcs_003-001850_003-001850_MG_BL_Series-1001_Image-1004-0.png', 'hcs_003-001852_003-001852_MG_BL_Series-1001_Image-1002-0.png', 'hcs_003-001852_003-001852_MG_BL_Series-1001_Image-1004-0.png', 'hcs_003-001854_003-001854_MG_BL_Series-1001_Image-1004-0.png', 'hcs_003-001859_003-001859_MG_BL_Series-1002_Image-1002-0.png', 'hcs_003-001862_003-001862_MG_BL_Series-1001_Image-1001-0.png', 'hcs_003-001862_003-001862_MG_BL_Series-1001_Image-1003-0.png', 'hcs_003-001864_003-001864_MG_BL_Series-1001_Image-1001-0.png', 'hcs_003-001865_003-001865_MG_BL_Series-1001_Image-1002-0.png', 'hcs_003-001866_003-001866_MG_BL_Series-1001_Image-1001-0.png', 'hcs_003-001866_003-001866_MG_BL_Series-1002_Image-1002-0.png', 'hcs_003-001867_003-001867_MG_BL_Series-1001_Image-1001-0.png', 'hcs_003-001867_003-001867_MG_BL_Series-1001_Image-1003-0.png', 'hcs_003-001869_003-001869_MG_BL_Series-1694_Image-1694-0.png', 'hcs_003-001873_003-001873_MG_BL_Series-1002_Image-1002-0.png', 'hcs_003-001880_003-001880_MG_BL_Series-1001_Image-1004-0.png', 'hcs_003-001883_003-001883_MG_BL_Series-1001_Image-1002-0.png', 'hcs_003-001886_003-001886_MG_BL_Series-1002_Image-1002-0.png', 'hcs_003-001901_003-001901_MG_BL_Series-1001_1001-0.png', 'hcs_003-001901_003-001901_MG_BL_Series-1002_1002-0.png', 'hcs_003-001902_003-001902_MG_BL_Series-1001_1002-0.png', 'hcs_003-001904_003-001904_MG_BL_Series-1001_1001-0.png', 'hcs_003-001904_003-001904_MG_BL_Series-1001_1003-0.png', 'hcs_003-001906_003-001906_MG_BL_Series-1001_1001-0.png', 'hcs_003-001906_003-001906_MG_BL_Series-1002_1002-0.png', 'hcs_003-001908_003-001908_MG_BL_Series-1001_1001-0.png', 'hcs_003-001912_003-001912_MG_BL_Series-1001_1002-0.png', 'hcs_003-001914_003-001914_MG_TP1_Series-1001_1001-0.png', 'hcs_003-001922_003-001922_MG_BL_Series-1003_1003-0.png', 'hcs_003-001926_003-001926_MG_BL_Series-1001_1002-0.png', 'hcs_003-001930_003-001930_MG_BL_Series-1001_1002-0.png', 'hcs_003-001931_003-001931_MG_BL_Series-1001_1001-0.png', 'hcs_003-001931_003-001931_MG_BL_Series-1002_1002-0.png', 'hcs_003-001936_003-001936_MG_BL_Series-1001_1001-0.png', 'hcs_003-001941_003-001941_MG_BL_Series-1001_1003-0.png', 'hcs_003-001943_003-001943_MG_BL_Series-1694_1694-0.png', 'hcs_003-001944_003-001944_MG_BL_Series-1001_1002-0.png', 'hcs_003-001944_003-001944_MG_BL_Series-1001_1004-0.png', 'hcs_003-001945_003-001945_MG_BL_Series-1001_1001-0.png', 'hcs_003-001945_003-001945_MG_BL_Series-1002_1002-0.png', 'hcs_003-001950_003-001950_MG_BL_Series-1001_1002-0.png', 'hcs_003-001974_003-001974_MG_BL_Series-2_Image-3-0.png', 'hcs_003-001987_003-001987_MG_BL_Series-1_Image-1-0.png', 'hcs_003-001987_003-001987_MG_BL_Series-4_Image-1-0.png', 'hcs_003-001987_003-001987_MG_BL_Series-5_Image-1-0.png', 'hcs_003-001997_003-001997_MG_BL_Series-1_Image-1-0.png', 'hcs_003-002031_003-002031_MG_BL_Series-2_Image-1-0.png', 'hcs_003-002054_003-002054_MG_BL_Series-11388_Image-11388-0.png', 'hcs_003-002054_003-002054_MG_BL_Series-1694_Image-1694-0.png', 'hcs_003-002057_003-002057_MG_BL_Series-11388_Image-11388-0.png', 'hcs_003-002060_003-002060_MG_BL_Series-1347_Image-1347-0.png', 'hcs_003-002060_003-002060_MG_BL_Series-1694_Image-1694-0.png', 'hcs_003-002066_003-002066_MG_BL_Series-1001_Image-1001-0.png', 'hcs_003-002070_003-002070_MG_BL_Series-11388_Image-11388-0.png', 'hcs_003-002070_003-002070_MG_BL_Series-1694_Image-1694-0.png', 'hcs_003-002071_003-002071_MG_BL_Series-1001_Image-1003-0.png', 'hcs_003-002077_003-002077_MG_BL_Series-1001_Image-1002-0.png', 'hcs_003-002077_003-002077_MG_BL_Series-1001_Image-1004-0.png', 'hcs_003-002078_003-002078_MG_BL_Series-1001_Image-1004-0.png', 'hcs_003-002084_003-002084_MG_BL_Series-1001_Image-1002-0.png', 'hcs_003-002084_003-002084_MG_BL_Series-1001_Image-1004-0.png', 'hcs_003-002103_003-002103_MG_BL_Series-1002_Image-1002-0.png', 'hcs_003-002106_003-002106_MG_BL_Series-1001_Image-1001-0.png', 'hcs_003-002114_003-002114_MG_BL_Series-1694_Image-1694-0.png', 'hcs_003-002118_003-002118_MG_BL_Series-1001_Image-1004-0.png', 'hcs_003-002121_003-002121_MG_BL_Series-1001_Image-1002-0.png', 'hcs_003-002127_003-002127_MG_BL_Series-3_Image-23-0.png', 'hcs_003-002128_003-002128_MG_BL_Series-1001_Image-1003-0.png', 'hcs_003-002129_003-002129_MG_BL_Series-2_Image-2-0.png', 'hcs_003-002129_003-002129_MG_BL_Series-2_Image-4-0.png', 'hcs_003-002132_003-002132_MG_BL_Series-2_Image-1-0.png', 'hcs_003-002132_003-002132_MG_BL_Series-2_Image-3-0.png', 'hcs_003-002133_003-002133_MG_BL_Series-2_Image-2-0.png', 'hcs_003-002134_003-002134_MG_BL_Series-1001_Image-1004-0.png', 'hcs_003-002136_003-002136_MG_BL_Series-1001_Image-1003-0.png', 'hcs_003-002141_003-002141_MG_BL_Series-1001_Image-1001-0.png', 'hcs_003-002144_003-002144_MG_BL_Series-3_Image-2-0.png', 'hcs_003-002145_003-002145_MG_BL_Series-1001_Image-1002-0.png', 'hcs_003-002155_003-002155_MG_BL_Series-1001_Image-1001-0.png', 'hcs_003-002155_003-002155_MG_BL_Series-1002_Image-1002-0.png', 'hcs_003-002168_003-002168_MG_BL_Series-2_Image-4-0.png', 'hcs_003-002170_003-002170_MG_BL_Series-1694_Image-1694-0.png', 'hcs_003-002177_003-002177_MG_BL_Series-2_Image-3-0.png', 'uns_005-000001_005-000001_MG_TP2_Series-1_Image-50-0.png', 'uns_005-000001_005-000001_MG_TP2_Series-1_Image-52-0.png', 'uns_005-000001_005-000001_MG_TP3_Series-1_Image-2-0.png', 'uns_005-000001_005-000001_MG_TP3_Series-1_Image-4-0.png', 'uns_005-000002_005-000002_MG_BL_Series-1_Image-124-0.png', 'uns_005-000002_005-000002_MG_BL_Series-1_Image-126-0.png', 'uns_005-000002_005-000002_MG_BL_Series-1_Image-136-0.png', 'uns_005-000002_005-000002_MG_BL_Series-1_Image-142-0.png', 'uns_005-000002_005-000002_MG_TP1_Series-1_Image-150-0.png', 'uns_005-000002_005-000002_MG_TP1_Series-1_Image-156-0.png', 'uns_005-000002_005-000002_MG_TP1_Series-1_Image-168-0.png', 'uns_005-000002_005-000002_MG_TP2_Series-71100000_Image-66-0.png', 'uns_005-000002_005-000002_MG_TP2_Series-71100000_Image-68-0.png', 'uns_005-000002_005-000002_MG_TP2_Series-71300000_Image-72-0.png', 'uns_005-000002_005-000002_MG_TP3_Series-71300000_Image-48-0.png', 'uns_005-000003_005-000003_MG_BL_Series-1_Image-1012-0.png', 'uns_005-000003_005-000003_MG_TP1_Series-1_Image-10-0.png', 'uns_005-000003_005-000003_MG_TP1_Series-1_Image-7-0.png', 'uns_005-000003_005-000003_MG_TP1_Series-1_Image-8-0.png', 'uns_005-000003_005-000003_MG_TP1_Series-1_Image-9-0.png', 'uns_005-000003_005-000003_MG_TP2_Series-1_Image-48-0.png', 'uns_005-000003_005-000003_MG_TP2_Series-1_Image-49-0.png', 'uns_005-000003_005-000003_MG_TP2_Series-1_Image-50-0.png', 'uns_005-000004_005-000004_MG_BL_Series-1_Image-1002-0.png', 'uns_005-000004_005-000004_MG_BL_Series-1_Image-1004-0.png', 'uns_005-000004_005-000004_MG_BL_Series-1_Image-1006-0.png', 'uns_005-000004_005-000004_MG_TP2_Series-1_Image-37-0.png', 'uns_005-000004_005-000004_MG_TP2_Series-1_Image-38-0.png', 'uns_005-000004_005-000004_MG_TP2_Series-1_Image-39-0.png', 'uns_005-000004_005-000004_MG_TP3_Series-1_Image-74-0.png', 'uns_005-000004_005-000004_MG_TP3_Series-1_Image-76-0.png', 'uns_005-000004_005-000004_MG_TP3_Series-1_Image-80-0.png', 'uns_005-000004_005-000004_MG_TP3_Series-1_Image-86-0.png', 'uns_005-000005_005-000005_MG_BL_Series-1_Image-1000-0.png', 'uns_005-000005_005-000005_MG_TP1_Series-1_Image-15-0.png', 'uns_005-000005_005-000005_MG_TP1_Series-1_Image-16-0.png', 'uns_005-000005_005-000005_MG_TP2_Series-1_Image-13-0.png', 'uns_005-000005_005-000005_MG_TP2_Series-1_Image-14-0.png', 'uns_005-000005_005-000005_MG_TP2_Series-1_Image-15-0.png', 'uns_005-000005_005-000005_MG_TP3_1_Series-1_Image-162-0.png', 'uns_005-000005_005-000005_MG_TP3_1_Series-1_Image-168-0.png', 'uns_005-000005_005-000005_MG_TP3_1_Series-1_Image-174-0.png', 'uns_005-000006_005-000006_MG_BL_Series-1_Image-1008-0.png', 'uns_005-000006_005-000006_MG_BL_Series-1_Image-1010-0.png', 'uns_005-000006_005-000006_MG_BL_Series-1_Image-1014-0.png', 'uns_005-000006_005-000006_MG_TP1_Series-1_Image-52-0.png', 'uns_005-000006_005-000006_MG_TP1_Series-1_Image-53-0.png', 'uns_005-000006_005-000006_MG_TP1_Series-1_Image-54-0.png', 'uns_005-000006_005-000006_MG_TP1_Series-1_Image-55-0.png', 'uns_005-000006_005-000006_MG_TP2_Series-1_Image-2-0.png', 'uns_005-000006_005-000006_MG_TP2_Series-1_Image-4-0.png', 'uns_005-000006_005-000006_MG_TP3_Series-1_Image-34-0.png', 'uns_005-000006_005-000006_MG_TP3_Series-1_Image-38-0.png', 'uns_005-000007_005-000007_MG_TP1_Series-1_Image-43-0.png', 'uns_005-000007_005-000007_MG_TP1_Series-1_Image-45-0.png', 'uns_005-000007_005-000007_MG_TP2_Series-1_Image-18-0.png', 'uns_005-000007_005-000007_MG_TP3_Series-1_Image-26-0.png', 'uns_005-000008_005-000008_MG_BL_Series-1_Image-1002-0.png', 'uns_005-000008_005-000008_MG_BL_Series-1_Image-1004-0.png', 'uns_005-000008_005-000008_MG_BL_Series-1_Image-1006-0.png', 'uns_005-000008_005-000008_MG_TP1_Series-1_Image-30-0.png', 'uns_005-000008_005-000008_MG_TP1_Series-1_Image-31-0.png', 'uns_005-000008_005-000008_MG_TP1_Series-1_Image-32-0.png', 'uns_005-000008_005-000008_MG_TP1_Series-1_Image-33-0.png', 'uns_005-000008_005-000008_MG_TP2_Series-1_Image-34-0.png', 'uns_005-000008_005-000008_MG_TP2_Series-1_Image-36-0.png', 'uns_005-000008_005-000008_MG_TP3_Series-1_Image-76-0.png', 'uns_005-000008_005-000008_MG_TP3_Series-1_Image-78-0.png', 'uns_005-000008_005-000008_MG_TP3_Series-1_Image-82-0.png', 'uns_005-000009_005-000009_MG_BL_Series-1_Image-1004-0.png', 'uns_005-000009_005-000009_MG_BL_Series-1_Image-1008-0.png', 'uns_005-000009_005-000009_MG_BL_Series-1_Image-1010-0.png', 'uns_005-000009_005-000009_MG_TP1_Series-1_Image-24-0.png', 'uns_005-000009_005-000009_MG_TP1_Series-1_Image-25-0.png', 'uns_005-000009_005-000009_MG_TP3_Series-1_Image-102-0.png', 'uns_005-000010_005-000010_MG_BL_Series-1_Image-0-0.png', 'uns_005-000010_005-000010_MG_BL_Series-1_Image-1008-0.png', 'uns_005-000010_005-000010_MG_BL_Series-1_Image-1010-0.png', 'uns_005-000010_005-000010_MG_BL_Series-1_Image-1012-0.png', 'uns_005-000010_005-000010_MG_TP1_Series-1_Image-4-0.png', 'uns_005-000010_005-000010_MG_TP1_Series-1_Image-6-0.png', 'uns_005-000010_005-000010_MG_TP2_Series-1_Image-39-0.png', 'uns_005-000010_005-000010_MG_TP3_Series-1_Image-31-0.png', 'uns_005-000011_005-000011_MG_BL_Series-1_Image-1000-0.png', 'uns_005-000011_005-000011_MG_BL_Series-1_Image-1004-0.png', 'uns_005-000012_005-000012_MG_BL_Series-1_Image-33-0.png', 'uns_005-000012_005-000012_MG_BL_Series-1_Image-39-0.png', 'uns_005-000012_005-000012_MG_TP1_Series-1_Image-26-0.png', 'uns_005-000012_005-000012_MG_TP2_Series-1_Image-56-0.png', 'uns_005-000012_005-000012_MG_TP2_Series-1_Image-60-0.png', 'uns_005-000012_005-000012_MG_TP3_Series-1_Image-164-0.png', 'uns_005-000013_005-000013_MG_TP3_3_Series-1_Image-34-0.png', 'uns_005-000013_005-000013_MG_TP3_4_Series-1_Image-112-0.png', 'uns_005-000014_005-000014_MG_BL_Series-1_Image-1008-0.png', 'uns_005-000014_005-000014_MG_BL_Series-1_Image-1012-0.png', 'uns_005-000014_005-000014_MG_BL_Series-1_Image-1014-0.png', 'uns_005-000014_005-000014_MG_TP1_Series-1_Image-19-0.png', 'uns_005-000015_005-000015_MG_BL_Series-71122100_Image-1004-0.png', 'uns_005-000016_005-000016_MG_TP3_Series-1_Image-66-0.png', 'uns_005-000017_005-000017_MG_BL_Series-1_Image-38-0.png', 'uns_005-000019_005-000019_MG_BL_Series-1_Image-27-0.png', 'uns_005-000020_005-000020_MG_BL_Series-1_Image-64-0.png', 'uns_005-000021_005-000021_MG_BL_Series-1_Image-33-0.png', 'uns_005-000021_005-000021_MG_BL_Series-1_Image-36-0.png', 'uns_005-000021_005-000021_MG_TP3_Series-71100000_Image-126-0.png', 'uns_005-000022_005-000022_MG_BL_Series-1_Image-24-0.png', 'uns_005-000024_005-000024_MG_BL_Series-1_Image-1020-0.png', 'uns_005-000025_005-000025_MG_BL_Series-71111100_Image-8-0.png', 'uns_005-000025_005-000025_MG_BL_Series-71112100_Image-10-0.png', 'uns_005-000025_005-000025_MG_BL_Series-71121100_Image-7-0.png', 'uns_005-000025_005-000025_MG_TP1_Series-1_Image-12-0.png', 'uns_005-000025_005-000025_MG_TP1_Series-1_Image-9-0.png', 'uns_005-000026_005-000026_MG_BL_Series-1_Image-1-0.png', 'uns_005-000027_005-000027_MG_BL_Series-1_Image-20-0.png', 'uns_005-000028_005-000028_MG_BL_Series-1_Image-46-0.png', 'uns_005-000028_005-000028_MG_BL_Series-1_Image-48-0.png', 'uns_005-000032_005-000032_MG_BL_Series-1_Image-2-0.png', 'uns_005-000034_005-000034_MG_BL_Series-1_Image-59-0.png', 'uns_005-000034_005-000034_MG_BL_Series-1_Image-62-0.png', 'uns_005-000034_005-000034_MG_BL_Series-1_Image-68-0.png', 'uns_005-000034_005-000034_MG_TP2_Series-1_Image-168-0.png', 'uns_005-000034_005-000034_MG_TP3_Series-1_Image-60-0.png', 'uns_005-000036_005-000036_MG_BL_Series-1_Image-236-0.png', 'uns_005-000036_005-000036_MG_BL_Series-1_Image-242-0.png', 'uns_005-000036_005-000036_MG_BL_Series-1_Image-248-0.png', 'uns_005-000037_005-000037_MG_BL_Series-1_Image-25-0.png', 'uns_005-000040_005-000040_MG_TP3_1_Series-1_Image-14-0.png', 'uns_005-000040_005-000040_MG_TP3_1_Series-1_Image-4-0.png']\n"
     ]
    },
    {
     "name": "stderr",
     "output_type": "stream",
     "text": [
      "Extracting features without lesion mask: 100%|██████████| 2798/2798 [03:23<00:00, 13.72file/s]\n"
     ]
    },
    {
     "name": "stdout",
     "output_type": "stream",
     "text": [
      "Feature extraction completed. Data saved to 'features_128_full_mask.csv' file.\n"
     ]
    },
    {
     "name": "stderr",
     "output_type": "stream",
     "text": [
      "Extracting features with lesion mask: 100%|██████████| 2798/2798 [03:19<00:00, 14.05file/s]\n"
     ]
    },
    {
     "name": "stdout",
     "output_type": "stream",
     "text": [
      "Feature extraction completed. Data saved to 'features_128_lesion_mask.csv' file.\n",
      "\n",
      "===========================================================================\n",
      " Starting processing for scale: 256\n",
      "===========================================================================\n",
      "\n"
     ]
    },
    {
     "name": "stderr",
     "output_type": "stream",
     "text": [
      "Processing masks: 100%|██████████| 2794/2794 [00:04<00:00, 678.01file/s]\n"
     ]
    },
    {
     "name": "stdout",
     "output_type": "stream",
     "text": [
      "List of entirely white images processed: ['auth_001-000084_001-000084_MG_BL_Series-3_Image-1-0.png', 'hcs_003-000243_003-000243_MG_BL_Series-2_Image-1-0.png', 'hcs_003-000243_003-000243_MG_BL_Series-2_Image-3-0.png', 'hcs_003-000303_003-000303_MG_BL_Series-3_Image-1-0.png', 'hcs_003-000673_003-000673_MG_BL_Series-1002_Image-1002-0.png', 'hcs_003-001204_003-001204_MG_BL_Series-1001_Image-1002-0.png', 'hcs_003-001210_003-001210_MG_BL_Series-1001_Image-1003-0.png', 'hcs_003-001222_003-001222_MG_BL_Series-1001_Image-1001-0.png', 'hcs_003-001222_003-001222_MG_TP2_Series-1001_Image-1001-0.png', 'hcs_003-001310_003-001310_MG_BL_Series-1001_Image-1001-0.png', 'hcs_003-001310_003-001310_MG_BL_Series-1001_Image-1003-0.png', 'hcs_003-001354_003-001354_MG_BL_Series-1001_Image-1003-0.png', 'hcs_003-001367_003-001367_MG_BL_Series-1001_Image-1001-0.png', 'hcs_003-001852_003-001852_MG_BL_Series-1001_Image-1002-0.png', 'hcs_003-001852_003-001852_MG_BL_Series-1001_Image-1004-0.png', 'hcs_003-001862_003-001862_MG_BL_Series-1001_Image-1001-0.png', 'hcs_003-001886_003-001886_MG_BL_Series-1001_Image-1001-0.png', 'hcs_003-001987_003-001987_MG_BL_Series-1_Image-1-0.png', 'hcs_003-001987_003-001987_MG_BL_Series-2_Image-1-0.png', 'hcs_003-001987_003-001987_MG_BL_Series-3_Image-1-0.png', 'hcs_003-001987_003-001987_MG_BL_Series-5_Image-1-0.png', 'hcs_003-002070_003-002070_MG_BL_Series-11388_Image-11388-0.png', 'hcs_003-002126_003-002126_MG_BL_Series-2_Image-1-0.png', 'hcs_003-002133_003-002133_MG_BL_Series-2_Image-4-0.png', 'hcs_003-002155_003-002155_MG_BL_Series-1002_Image-1002-0.png', 'uns_005-000001_005-000001_MG_TP2_Series-1_Image-51-0.png', 'uns_005-000001_005-000001_MG_TP2_Series-1_Image-52-0.png', 'uns_005-000001_005-000001_MG_TP3_Series-1_Image-2-0.png', 'uns_005-000001_005-000001_MG_TP3_Series-1_Image-4-0.png', 'uns_005-000002_005-000002_MG_BL_Series-1_Image-124-0.png', 'uns_005-000002_005-000002_MG_BL_Series-1_Image-126-0.png', 'uns_005-000002_005-000002_MG_BL_Series-1_Image-142-0.png', 'uns_005-000002_005-000002_MG_TP1_Series-1_Image-150-0.png', 'uns_005-000002_005-000002_MG_TP1_Series-1_Image-156-0.png', 'uns_005-000002_005-000002_MG_TP1_Series-1_Image-162-0.png', 'uns_005-000002_005-000002_MG_TP1_Series-1_Image-168-0.png', 'uns_005-000002_005-000002_MG_TP2_Series-71300000_Image-72-0.png', 'uns_005-000002_005-000002_MG_TP3_Series-71300000_Image-48-0.png', 'uns_005-000003_005-000003_MG_BL_Series-1_Image-1012-0.png', 'uns_005-000003_005-000003_MG_TP1_Series-1_Image-7-0.png', 'uns_005-000003_005-000003_MG_TP1_Series-1_Image-9-0.png', 'uns_005-000003_005-000003_MG_TP2_Series-1_Image-48-0.png', 'uns_005-000003_005-000003_MG_TP2_Series-1_Image-49-0.png', 'uns_005-000004_005-000004_MG_BL_Series-1_Image-1002-0.png', 'uns_005-000004_005-000004_MG_BL_Series-1_Image-1006-0.png', 'uns_005-000004_005-000004_MG_TP1_Series-1_Image-21-0.png', 'uns_005-000004_005-000004_MG_TP2_Series-1_Image-38-0.png', 'uns_005-000004_005-000004_MG_TP3_Series-1_Image-74-0.png', 'uns_005-000004_005-000004_MG_TP3_Series-1_Image-80-0.png', 'uns_005-000005_005-000005_MG_TP1_Series-1_Image-15-0.png', 'uns_005-000005_005-000005_MG_TP1_Series-1_Image-16-0.png', 'uns_005-000005_005-000005_MG_TP1_Series-1_Image-17-0.png', 'uns_005-000005_005-000005_MG_TP2_Series-1_Image-13-0.png', 'uns_005-000005_005-000005_MG_TP2_Series-1_Image-15-0.png', 'uns_005-000005_005-000005_MG_TP3_1_Series-1_Image-162-0.png', 'uns_005-000006_005-000006_MG_TP3_Series-1_Image-34-0.png', 'uns_005-000007_005-000007_MG_BL_Series-1_Image-1010-0.png', 'uns_005-000007_005-000007_MG_BL_Series-1_Image-1012-0.png', 'uns_005-000008_005-000008_MG_BL_Series-1_Image-1002-0.png', 'uns_005-000008_005-000008_MG_BL_Series-1_Image-1006-0.png', 'uns_005-000008_005-000008_MG_TP2_Series-1_Image-34-0.png', 'uns_005-000008_005-000008_MG_TP3_Series-1_Image-76-0.png', 'uns_005-000008_005-000008_MG_TP3_Series-1_Image-78-0.png', 'uns_005-000011_005-000011_MG_BL_Series-1_Image-1004-0.png', 'uns_005-000019_005-000019_MG_BL_Series-1_Image-27-0.png', 'uns_005-000032_005-000032_MG_BL_Series-1_Image-2-0.png']\n"
     ]
    },
    {
     "name": "stderr",
     "output_type": "stream",
     "text": [
      "Extracting features without lesion mask: 100%|██████████| 2794/2794 [06:32<00:00,  7.11file/s]\n"
     ]
    },
    {
     "name": "stdout",
     "output_type": "stream",
     "text": [
      "Feature extraction completed. Data saved to 'features_256_full_mask.csv' file.\n"
     ]
    },
    {
     "name": "stderr",
     "output_type": "stream",
     "text": [
      "Extracting features with lesion mask: 100%|██████████| 2794/2794 [05:23<00:00,  8.65file/s]\n"
     ]
    },
    {
     "name": "stdout",
     "output_type": "stream",
     "text": [
      "Feature extraction completed. Data saved to 'features_256_lesion_mask.csv' file.\n",
      "\n",
      "===========================================================================\n",
      " Starting processing for scale: 512\n",
      "===========================================================================\n",
      "\n"
     ]
    },
    {
     "name": "stderr",
     "output_type": "stream",
     "text": [
      "Processing masks: 100%|██████████| 2734/2734 [00:12<00:00, 223.32file/s]\n"
     ]
    },
    {
     "name": "stdout",
     "output_type": "stream",
     "text": [
      "List of entirely white images processed: ['auth_001-000084_001-000084_MG_BL_Series-3_Image-1-0.png', 'uns_005-000002_005-000002_MG_TP2_Series-71300000_Image-72-0.png', 'uns_005-000002_005-000002_MG_TP3_Series-71300000_Image-48-0.png', 'uns_005-000003_005-000003_MG_TP2_Series-1_Image-49-0.png', 'uns_005-000005_005-000005_MG_TP3_1_Series-1_Image-162-0.png']\n"
     ]
    },
    {
     "name": "stderr",
     "output_type": "stream",
     "text": [
      "Extracting features without lesion mask: 100%|██████████| 2734/2734 [19:39<00:00,  2.32file/s]\n"
     ]
    },
    {
     "name": "stdout",
     "output_type": "stream",
     "text": [
      "Feature extraction completed. Data saved to 'features_512_full_mask.csv' file.\n"
     ]
    },
    {
     "name": "stderr",
     "output_type": "stream",
     "text": [
      "Extracting features with lesion mask: 100%|██████████| 2734/2734 [13:25<00:00,  3.40file/s]\n"
     ]
    },
    {
     "name": "stdout",
     "output_type": "stream",
     "text": [
      "Feature extraction completed. Data saved to 'features_512_lesion_mask.csv' file.\n"
     ]
    }
   ],
   "source": [
    "process_and_extract_features()"
   ]
  }
 ],
 "metadata": {
  "kernelspec": {
   "display_name": "big_data_project",
   "language": "python",
   "name": "python3"
  },
  "language_info": {
   "codemirror_mode": {
    "name": "ipython",
    "version": 3
   },
   "file_extension": ".py",
   "mimetype": "text/x-python",
   "name": "python",
   "nbconvert_exporter": "python",
   "pygments_lexer": "ipython3",
   "version": "3.10.9"
  }
 },
 "nbformat": 4,
 "nbformat_minor": 2
}
