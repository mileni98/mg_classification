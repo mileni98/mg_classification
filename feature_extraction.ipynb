{
 "cells": [
  {
   "attachments": {},
   "cell_type": "markdown",
   "metadata": {},
   "source": [
    "## Feature Extraction"
   ]
  },
  {
   "cell_type": "code",
   "execution_count": 10,
   "metadata": {},
   "outputs": [],
   "source": [
    "import os\n",
    "import cv2\n",
    "import pandas as pd\n",
    "from radiomics import featureextractor"
   ]
  },
  {
   "cell_type": "code",
   "execution_count": 11,
   "metadata": {},
   "outputs": [],
   "source": [
    "image_dir = os.path.join(os.getcwd(), \"data\", \"scale_1\", \"512\", \"image\")\n",
    "mask_dir = os.path.join(os.getcwd(), \"data\", \"scale_1\", \"512\", \"mask\")\n",
    "\n",
    "# Path for the new folder to back up old masks\n",
    "new_mask_dir = os.path.join(os.getcwd(), \"data\", \"scale_1\", \"512\", \"processed_mask\")"
   ]
  },
  {
   "cell_type": "code",
   "execution_count": 12,
   "metadata": {},
   "outputs": [],
   "source": [
    "import shutil\n",
    "\n",
    "# Delete the folder if it already exists\n",
    "if os.path.exists(new_mask_dir):\n",
    "    shutil.rmtree(new_mask_dir)\n",
    "\n",
    "os.makedirs(new_mask_dir)"
   ]
  },
  {
   "attachments": {},
   "cell_type": "markdown",
   "metadata": {},
   "source": [
    "### Converting masks"
   ]
  },
  {
   "cell_type": "code",
   "execution_count": 13,
   "metadata": {},
   "outputs": [],
   "source": [
    "for filename in os.listdir(mask_dir):\n",
    "\n",
    "    mask_path = os.path.join(mask_dir, filename)\n",
    "    new_mask_path = os.path.join(new_mask_dir, filename)\n",
    "\n",
    "    if filename.endswith(\".png\"):\n",
    "\n",
    "        image = cv2.imread(mask_path)\n",
    "            \n",
    "        if filename.endswith(\"1.png\"):\n",
    "\n",
    "            # Dimensions of the white rectangle, having 1px black border\n",
    "            rectangle_width, rectangle_height = image.shape[1] - 2, image.shape[0] - 2\n",
    "\n",
    "            # Calculate the coordinates for the white rectangle\n",
    "            x = (image.shape[1] - rectangle_width) // 2\n",
    "            y = (image.shape[0] - rectangle_height) // 2\n",
    "\n",
    "            cv2.rectangle(image, (x, y), (x+rectangle_width, y+rectangle_height), (255, 255, 255), -1)\n",
    "            cv2.imwrite(new_mask_path, image)\n",
    "\n",
    "        # Else if it ends with 0.png just save the same copy  \n",
    "        original_image = image.copy()\n",
    "        cv2.imwrite(new_mask_path, original_image)"
   ]
  },
  {
   "attachments": {},
   "cell_type": "markdown",
   "metadata": {},
   "source": [
    "### Feature extraction"
   ]
  },
  {
   "cell_type": "code",
   "execution_count": 14,
   "metadata": {},
   "outputs": [
    {
     "name": "stdout",
     "output_type": "stream",
     "text": [
      "Extraction parameters:  {'firstorder': [], 'glcm': [], 'gldm': [], 'glrlm': [], 'glszm': [], 'ngtdm': [], 'shape': [], 'shape2D': []}\n"
     ]
    }
   ],
   "source": [
    "# Initialize the feature extractor\n",
    "extractor = featureextractor.RadiomicsFeatureExtractor()\n",
    "extractor.enableAllFeatures()\n",
    "\n",
    "print(\"Extraction parameters: \", extractor.enabledFeatures)"
   ]
  },
  {
   "cell_type": "code",
   "execution_count": 15,
   "metadata": {},
   "outputs": [
    {
     "name": "stdout",
     "output_type": "stream",
     "text": [
      "{'minimumROIDimensions': 2, 'minimumROISize': None, 'normalize': False, 'normalizeScale': 1, 'removeOutliers': None, 'resampledPixelSpacing': None, 'interpolator': 'sitkBSpline', 'preCrop': False, 'padDistance': 5, 'distances': [1], 'force2D': True, 'force2Ddimension': 0, 'resegmentRange': None, 'label': 1, 'additionalInfo': True}\n"
     ]
    }
   ],
   "source": [
    "extractor.settings[\"force2D\"] = True\n",
    "print(extractor.settings)"
   ]
  },
  {
   "cell_type": "code",
   "execution_count": 17,
   "metadata": {},
   "outputs": [
    {
     "name": "stderr",
     "output_type": "stream",
     "text": [
      "Shape features are only available 3D input (for 2D input, use shape2D). Found 2D input\n",
      "GLCM is symmetrical, therefore Sum Average = 2 * Joint Average, only 1 needs to be calculated\n",
      "C:\\Users\\Korisnik\\AppData\\Local\\Temp\\ipykernel_12800\\4041461289.py:10: FutureWarning: The frame.append method is deprecated and will be removed from pandas in a future version. Use pandas.concat instead.\n",
      "  features_df = features_df.append(pd.Series(features), ignore_index = True)\n",
      "Shape features are only available 3D input (for 2D input, use shape2D). Found 2D input\n",
      "GLCM is symmetrical, therefore Sum Average = 2 * Joint Average, only 1 needs to be calculated\n",
      "C:\\Users\\Korisnik\\AppData\\Local\\Temp\\ipykernel_12800\\4041461289.py:10: FutureWarning: The frame.append method is deprecated and will be removed from pandas in a future version. Use pandas.concat instead.\n",
      "  features_df = features_df.append(pd.Series(features), ignore_index = True)\n",
      "Shape features are only available 3D input (for 2D input, use shape2D). Found 2D input\n",
      "GLCM is symmetrical, therefore Sum Average = 2 * Joint Average, only 1 needs to be calculated\n",
      "C:\\Users\\Korisnik\\AppData\\Local\\Temp\\ipykernel_12800\\4041461289.py:10: FutureWarning: The frame.append method is deprecated and will be removed from pandas in a future version. Use pandas.concat instead.\n",
      "  features_df = features_df.append(pd.Series(features), ignore_index = True)\n",
      "Shape features are only available 3D input (for 2D input, use shape2D). Found 2D input\n",
      "GLCM is symmetrical, therefore Sum Average = 2 * Joint Average, only 1 needs to be calculated\n",
      "C:\\Users\\Korisnik\\AppData\\Local\\Temp\\ipykernel_12800\\4041461289.py:10: FutureWarning: The frame.append method is deprecated and will be removed from pandas in a future version. Use pandas.concat instead.\n",
      "  features_df = features_df.append(pd.Series(features), ignore_index = True)\n",
      "Shape features are only available 3D input (for 2D input, use shape2D). Found 2D input\n",
      "GLCM is symmetrical, therefore Sum Average = 2 * Joint Average, only 1 needs to be calculated\n",
      "C:\\Users\\Korisnik\\AppData\\Local\\Temp\\ipykernel_12800\\4041461289.py:10: FutureWarning: The frame.append method is deprecated and will be removed from pandas in a future version. Use pandas.concat instead.\n",
      "  features_df = features_df.append(pd.Series(features), ignore_index = True)\n",
      "Shape features are only available 3D input (for 2D input, use shape2D). Found 2D input\n",
      "GLCM is symmetrical, therefore Sum Average = 2 * Joint Average, only 1 needs to be calculated\n",
      "C:\\Users\\Korisnik\\AppData\\Local\\Temp\\ipykernel_12800\\4041461289.py:10: FutureWarning: The frame.append method is deprecated and will be removed from pandas in a future version. Use pandas.concat instead.\n",
      "  features_df = features_df.append(pd.Series(features), ignore_index = True)\n",
      "Shape features are only available 3D input (for 2D input, use shape2D). Found 2D input\n",
      "GLCM is symmetrical, therefore Sum Average = 2 * Joint Average, only 1 needs to be calculated\n",
      "C:\\Users\\Korisnik\\AppData\\Local\\Temp\\ipykernel_12800\\4041461289.py:10: FutureWarning: The frame.append method is deprecated and will be removed from pandas in a future version. Use pandas.concat instead.\n",
      "  features_df = features_df.append(pd.Series(features), ignore_index = True)\n",
      "Shape features are only available 3D input (for 2D input, use shape2D). Found 2D input\n",
      "GLCM is symmetrical, therefore Sum Average = 2 * Joint Average, only 1 needs to be calculated\n",
      "C:\\Users\\Korisnik\\AppData\\Local\\Temp\\ipykernel_12800\\4041461289.py:10: FutureWarning: The frame.append method is deprecated and will be removed from pandas in a future version. Use pandas.concat instead.\n",
      "  features_df = features_df.append(pd.Series(features), ignore_index = True)\n",
      "Shape features are only available 3D input (for 2D input, use shape2D). Found 2D input\n",
      "GLCM is symmetrical, therefore Sum Average = 2 * Joint Average, only 1 needs to be calculated\n",
      "C:\\Users\\Korisnik\\AppData\\Local\\Temp\\ipykernel_12800\\4041461289.py:10: FutureWarning: The frame.append method is deprecated and will be removed from pandas in a future version. Use pandas.concat instead.\n",
      "  features_df = features_df.append(pd.Series(features), ignore_index = True)\n",
      "Shape features are only available 3D input (for 2D input, use shape2D). Found 2D input\n",
      "GLCM is symmetrical, therefore Sum Average = 2 * Joint Average, only 1 needs to be calculated\n",
      "C:\\Users\\Korisnik\\AppData\\Local\\Temp\\ipykernel_12800\\4041461289.py:10: FutureWarning: The frame.append method is deprecated and will be removed from pandas in a future version. Use pandas.concat instead.\n",
      "  features_df = features_df.append(pd.Series(features), ignore_index = True)\n",
      "Shape features are only available 3D input (for 2D input, use shape2D). Found 2D input\n",
      "GLCM is symmetrical, therefore Sum Average = 2 * Joint Average, only 1 needs to be calculated\n",
      "C:\\Users\\Korisnik\\AppData\\Local\\Temp\\ipykernel_12800\\4041461289.py:10: FutureWarning: The frame.append method is deprecated and will be removed from pandas in a future version. Use pandas.concat instead.\n",
      "  features_df = features_df.append(pd.Series(features), ignore_index = True)\n",
      "Shape features are only available 3D input (for 2D input, use shape2D). Found 2D input\n",
      "GLCM is symmetrical, therefore Sum Average = 2 * Joint Average, only 1 needs to be calculated\n",
      "C:\\Users\\Korisnik\\AppData\\Local\\Temp\\ipykernel_12800\\4041461289.py:10: FutureWarning: The frame.append method is deprecated and will be removed from pandas in a future version. Use pandas.concat instead.\n",
      "  features_df = features_df.append(pd.Series(features), ignore_index = True)\n",
      "Shape features are only available 3D input (for 2D input, use shape2D). Found 2D input\n",
      "GLCM is symmetrical, therefore Sum Average = 2 * Joint Average, only 1 needs to be calculated\n",
      "C:\\Users\\Korisnik\\AppData\\Local\\Temp\\ipykernel_12800\\4041461289.py:10: FutureWarning: The frame.append method is deprecated and will be removed from pandas in a future version. Use pandas.concat instead.\n",
      "  features_df = features_df.append(pd.Series(features), ignore_index = True)\n",
      "Shape features are only available 3D input (for 2D input, use shape2D). Found 2D input\n",
      "GLCM is symmetrical, therefore Sum Average = 2 * Joint Average, only 1 needs to be calculated\n",
      "C:\\Users\\Korisnik\\AppData\\Local\\Temp\\ipykernel_12800\\4041461289.py:10: FutureWarning: The frame.append method is deprecated and will be removed from pandas in a future version. Use pandas.concat instead.\n",
      "  features_df = features_df.append(pd.Series(features), ignore_index = True)\n",
      "Shape features are only available 3D input (for 2D input, use shape2D). Found 2D input\n",
      "GLCM is symmetrical, therefore Sum Average = 2 * Joint Average, only 1 needs to be calculated\n",
      "C:\\Users\\Korisnik\\AppData\\Local\\Temp\\ipykernel_12800\\4041461289.py:10: FutureWarning: The frame.append method is deprecated and will be removed from pandas in a future version. Use pandas.concat instead.\n",
      "  features_df = features_df.append(pd.Series(features), ignore_index = True)\n",
      "Shape features are only available 3D input (for 2D input, use shape2D). Found 2D input\n",
      "GLCM is symmetrical, therefore Sum Average = 2 * Joint Average, only 1 needs to be calculated\n",
      "C:\\Users\\Korisnik\\AppData\\Local\\Temp\\ipykernel_12800\\4041461289.py:10: FutureWarning: The frame.append method is deprecated and will be removed from pandas in a future version. Use pandas.concat instead.\n",
      "  features_df = features_df.append(pd.Series(features), ignore_index = True)\n",
      "Shape features are only available 3D input (for 2D input, use shape2D). Found 2D input\n",
      "GLCM is symmetrical, therefore Sum Average = 2 * Joint Average, only 1 needs to be calculated\n",
      "C:\\Users\\Korisnik\\AppData\\Local\\Temp\\ipykernel_12800\\4041461289.py:10: FutureWarning: The frame.append method is deprecated and will be removed from pandas in a future version. Use pandas.concat instead.\n",
      "  features_df = features_df.append(pd.Series(features), ignore_index = True)\n",
      "Shape features are only available 3D input (for 2D input, use shape2D). Found 2D input\n"
     ]
    }
   ],
   "source": [
    "# Create data frame which will store feature values \n",
    "features_df = pd.DataFrame()\n",
    "\n",
    "for filename in os.listdir(image_dir):\n",
    "\n",
    "    image_path = os.path.join(image_dir, filename)\n",
    "    mask_path = os.path.join(new_mask_dir, filename)\n",
    "\n",
    "    features = extractor.execute(image_path, mask_path, label = 255)\n",
    "    features_df = features_df.append(pd.Series(features), ignore_index = True)"
   ]
  },
  {
   "cell_type": "code",
   "execution_count": null,
   "metadata": {},
   "outputs": [
    {
     "data": {
      "text/html": [
       "<div>\n",
       "<style scoped>\n",
       "    .dataframe tbody tr th:only-of-type {\n",
       "        vertical-align: middle;\n",
       "    }\n",
       "\n",
       "    .dataframe tbody tr th {\n",
       "        vertical-align: top;\n",
       "    }\n",
       "\n",
       "    .dataframe thead th {\n",
       "        text-align: right;\n",
       "    }\n",
       "</style>\n",
       "<table border=\"1\" class=\"dataframe\">\n",
       "  <thead>\n",
       "    <tr style=\"text-align: right;\">\n",
       "      <th></th>\n",
       "      <th>diagnostics_Versions_PyRadiomics</th>\n",
       "      <th>diagnostics_Versions_Numpy</th>\n",
       "      <th>diagnostics_Versions_SimpleITK</th>\n",
       "      <th>diagnostics_Versions_PyWavelet</th>\n",
       "      <th>diagnostics_Versions_Python</th>\n",
       "      <th>diagnostics_Configuration_Settings</th>\n",
       "      <th>diagnostics_Configuration_EnabledImageTypes</th>\n",
       "      <th>diagnostics_Image-original_Hash</th>\n",
       "      <th>diagnostics_Image-original_Dimensionality</th>\n",
       "      <th>diagnostics_Image-original_Spacing</th>\n",
       "      <th>...</th>\n",
       "      <th>original_glszm_SmallAreaHighGrayLevelEmphasis</th>\n",
       "      <th>original_glszm_SmallAreaLowGrayLevelEmphasis</th>\n",
       "      <th>original_glszm_ZoneEntropy</th>\n",
       "      <th>original_glszm_ZonePercentage</th>\n",
       "      <th>original_glszm_ZoneVariance</th>\n",
       "      <th>original_ngtdm_Busyness</th>\n",
       "      <th>original_ngtdm_Coarseness</th>\n",
       "      <th>original_ngtdm_Complexity</th>\n",
       "      <th>original_ngtdm_Contrast</th>\n",
       "      <th>original_ngtdm_Strength</th>\n",
       "    </tr>\n",
       "  </thead>\n",
       "  <tbody>\n",
       "    <tr>\n",
       "      <th>0</th>\n",
       "      <td>v3.0.1</td>\n",
       "      <td>1.23.5</td>\n",
       "      <td>2.2.1</td>\n",
       "      <td>1.4.1</td>\n",
       "      <td>3.10.9</td>\n",
       "      <td>{'minimumROIDimensions': 2, 'minimumROISize': ...</td>\n",
       "      <td>{'Original': {}}</td>\n",
       "      <td>13f501ab5e4d2d2bee6d5303f0d25f463bef4733</td>\n",
       "      <td>2D</td>\n",
       "      <td>(1.0, 1.0)</td>\n",
       "      <td>...</td>\n",
       "      <td>23.620827690568294</td>\n",
       "      <td>0.03847567467367387</td>\n",
       "      <td>4.638442559973614</td>\n",
       "      <td>0.5896260315729474</td>\n",
       "      <td>1.2198258855807722</td>\n",
       "      <td>58.90781930060185</td>\n",
       "      <td>0.00030747943438384225</td>\n",
       "      <td>27.441090616580958</td>\n",
       "      <td>0.03878475841848786</td>\n",
       "      <td>0.013273900668552878</td>\n",
       "    </tr>\n",
       "    <tr>\n",
       "      <th>1</th>\n",
       "      <td>v3.0.1</td>\n",
       "      <td>1.23.5</td>\n",
       "      <td>2.2.1</td>\n",
       "      <td>1.4.1</td>\n",
       "      <td>3.10.9</td>\n",
       "      <td>{'minimumROIDimensions': 2, 'minimumROISize': ...</td>\n",
       "      <td>{'Original': {}}</td>\n",
       "      <td>113ab59e2b6b19468a9ebeff444e5f207966df74</td>\n",
       "      <td>2D</td>\n",
       "      <td>(1.0, 1.0)</td>\n",
       "      <td>...</td>\n",
       "      <td>6.496939633407332</td>\n",
       "      <td>0.12984349637178005</td>\n",
       "      <td>4.418469115363689</td>\n",
       "      <td>0.4766104602846956</td>\n",
       "      <td>3.198493437927262</td>\n",
       "      <td>707.1176368804727</td>\n",
       "      <td>3.897310837469989e-05</td>\n",
       "      <td>33.00420778631294</td>\n",
       "      <td>0.013954819475841223</td>\n",
       "      <td>0.004265080703148299</td>\n",
       "    </tr>\n",
       "    <tr>\n",
       "      <th>2</th>\n",
       "      <td>v3.0.1</td>\n",
       "      <td>1.23.5</td>\n",
       "      <td>2.2.1</td>\n",
       "      <td>1.4.1</td>\n",
       "      <td>3.10.9</td>\n",
       "      <td>{'minimumROIDimensions': 2, 'minimumROISize': ...</td>\n",
       "      <td>{'Original': {}}</td>\n",
       "      <td>b10f814af0cc2661a2f4609410eb3ae4edd35684</td>\n",
       "      <td>2D</td>\n",
       "      <td>(1.0, 1.0)</td>\n",
       "      <td>...</td>\n",
       "      <td>6.642086491517708</td>\n",
       "      <td>0.10866769114223532</td>\n",
       "      <td>3.646060893729482</td>\n",
       "      <td>0.5400485436893204</td>\n",
       "      <td>2.047665698775407</td>\n",
       "      <td>27.05092346728035</td>\n",
       "      <td>0.0017974312438922239</td>\n",
       "      <td>8.431611791760808</td>\n",
       "      <td>0.023067855125242998</td>\n",
       "      <td>0.025505320798160164</td>\n",
       "    </tr>\n",
       "  </tbody>\n",
       "</table>\n",
       "<p>3 rows × 115 columns</p>\n",
       "</div>"
      ],
      "text/plain": [
       "  diagnostics_Versions_PyRadiomics diagnostics_Versions_Numpy  \\\n",
       "0                           v3.0.1                     1.23.5   \n",
       "1                           v3.0.1                     1.23.5   \n",
       "2                           v3.0.1                     1.23.5   \n",
       "\n",
       "  diagnostics_Versions_SimpleITK diagnostics_Versions_PyWavelet  \\\n",
       "0                          2.2.1                          1.4.1   \n",
       "1                          2.2.1                          1.4.1   \n",
       "2                          2.2.1                          1.4.1   \n",
       "\n",
       "  diagnostics_Versions_Python  \\\n",
       "0                      3.10.9   \n",
       "1                      3.10.9   \n",
       "2                      3.10.9   \n",
       "\n",
       "                  diagnostics_Configuration_Settings  \\\n",
       "0  {'minimumROIDimensions': 2, 'minimumROISize': ...   \n",
       "1  {'minimumROIDimensions': 2, 'minimumROISize': ...   \n",
       "2  {'minimumROIDimensions': 2, 'minimumROISize': ...   \n",
       "\n",
       "  diagnostics_Configuration_EnabledImageTypes  \\\n",
       "0                            {'Original': {}}   \n",
       "1                            {'Original': {}}   \n",
       "2                            {'Original': {}}   \n",
       "\n",
       "            diagnostics_Image-original_Hash  \\\n",
       "0  13f501ab5e4d2d2bee6d5303f0d25f463bef4733   \n",
       "1  113ab59e2b6b19468a9ebeff444e5f207966df74   \n",
       "2  b10f814af0cc2661a2f4609410eb3ae4edd35684   \n",
       "\n",
       "  diagnostics_Image-original_Dimensionality  \\\n",
       "0                                        2D   \n",
       "1                                        2D   \n",
       "2                                        2D   \n",
       "\n",
       "  diagnostics_Image-original_Spacing  ...  \\\n",
       "0                         (1.0, 1.0)  ...   \n",
       "1                         (1.0, 1.0)  ...   \n",
       "2                         (1.0, 1.0)  ...   \n",
       "\n",
       "  original_glszm_SmallAreaHighGrayLevelEmphasis  \\\n",
       "0                            23.620827690568294   \n",
       "1                             6.496939633407332   \n",
       "2                             6.642086491517708   \n",
       "\n",
       "   original_glszm_SmallAreaLowGrayLevelEmphasis  original_glszm_ZoneEntropy  \\\n",
       "0                           0.03847567467367387           4.638442559973614   \n",
       "1                           0.12984349637178005           4.418469115363689   \n",
       "2                           0.10866769114223532           3.646060893729482   \n",
       "\n",
       "   original_glszm_ZonePercentage original_glszm_ZoneVariance  \\\n",
       "0             0.5896260315729474          1.2198258855807722   \n",
       "1             0.4766104602846956           3.198493437927262   \n",
       "2             0.5400485436893204           2.047665698775407   \n",
       "\n",
       "  original_ngtdm_Busyness original_ngtdm_Coarseness original_ngtdm_Complexity  \\\n",
       "0       58.90781930060185    0.00030747943438384225        27.441090616580958   \n",
       "1       707.1176368804727     3.897310837469989e-05         33.00420778631294   \n",
       "2       27.05092346728035     0.0017974312438922239         8.431611791760808   \n",
       "\n",
       "   original_ngtdm_Contrast  original_ngtdm_Strength  \n",
       "0      0.03878475841848786     0.013273900668552878  \n",
       "1     0.013954819475841223     0.004265080703148299  \n",
       "2     0.023067855125242998     0.025505320798160164  \n",
       "\n",
       "[3 rows x 115 columns]"
      ]
     },
     "execution_count": 96,
     "metadata": {},
     "output_type": "execute_result"
    }
   ],
   "source": [
    "features_df.head(3)"
   ]
  },
  {
   "cell_type": "code",
   "execution_count": null,
   "metadata": {},
   "outputs": [
    {
     "data": {
      "text/plain": [
       "(86, 115)"
      ]
     },
     "execution_count": 98,
     "metadata": {},
     "output_type": "execute_result"
    }
   ],
   "source": [
    "features_df.shape"
   ]
  }
 ],
 "metadata": {
  "kernelspec": {
   "display_name": "base",
   "language": "python",
   "name": "python3"
  },
  "language_info": {
   "codemirror_mode": {
    "name": "ipython",
    "version": 3
   },
   "file_extension": ".py",
   "mimetype": "text/x-python",
   "name": "python",
   "nbconvert_exporter": "python",
   "pygments_lexer": "ipython3",
   "version": "3.10.9"
  },
  "orig_nbformat": 4
 },
 "nbformat": 4,
 "nbformat_minor": 2
}
