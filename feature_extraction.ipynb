{
 "cells": [
  {
   "cell_type": "markdown",
   "metadata": {},
   "source": [
    "## Feature Extraction"
   ]
  },
  {
   "cell_type": "code",
   "execution_count": 9,
   "metadata": {},
   "outputs": [],
   "source": [
    "import os\n",
    "import cv2\n",
    "import shutil\n",
    "import logging\n",
    "import warnings\n",
    "import radiomics\n",
    "import numpy as np\n",
    "import pandas as pd\n",
    "\n",
    "from tqdm import tqdm\n",
    "from dotenv import load_dotenv\n",
    "from radiomics import featureextractor\n",
    "\n",
    "# Load environment variables from .env file\n",
    "_ = load_dotenv()"
   ]
  },
  {
   "cell_type": "code",
   "execution_count": 10,
   "metadata": {},
   "outputs": [],
   "source": [
    "# Retrieve environment variables\n",
    "BASE_DIR_NAME, MASK_DIR_NAME, IMAGE_DIR_NAME =  os.getenv('BASE_DIR_NAME'), os.getenv('MASK_DIR_NAME'), os.getenv('IMAGE_DIR_NAME')\n",
    "PROCESSED_MASK_DIR_NAME = os.getenv('PROCESSED_MASK_DIR_NAME')\n",
    "\n",
    "# Define the image and mask directories\n",
    "image_dir = os.path.join(os.getcwd(), BASE_DIR_NAME, IMAGE_DIR_NAME)\n",
    "mask_dir = os.path.join(os.getcwd(), BASE_DIR_NAME, MASK_DIR_NAME)\n",
    "processed_mask_dir = os.path.join(os.getcwd(), BASE_DIR_NAME, PROCESSED_MASK_DIR_NAME)\n",
    "\n",
    "# Recreate the 'processed_mask' directory if it exists, or create it if it doesn't\n",
    "if os.path.exists(processed_mask_dir):\n",
    "    shutil.rmtree(processed_mask_dir)\n",
    "os.makedirs(processed_mask_dir)"
   ]
  },
  {
   "cell_type": "markdown",
   "metadata": {},
   "source": [
    "### Converting masks"
   ]
  },
  {
   "cell_type": "code",
   "execution_count": 11,
   "metadata": {},
   "outputs": [],
   "source": [
    "def add_black_border(image: np.ndarray, border_thickness: int = 1) -> None:\n",
    "    \"\"\"Add a 1px wide black border to an entirely white image by drawing a white rectangle on a black image\"\"\"\n",
    "\n",
    "    # Dimensions of the white rectangle, having 1px black border\n",
    "    rectangle_width, rectangle_height = image.shape[1] - 2 * border_thickness, image.shape[0] - 2 * border_thickness\n",
    "    \n",
    "    # Calculate the coordinates for the white rectangle\n",
    "    x = (image.shape[1] - rectangle_width) // 2\n",
    "    y = (image.shape[0] - rectangle_height) // 2\n",
    "    \n",
    "    # Draw the white rectangle on the black image\n",
    "    cv2.rectangle(image, (x, y), (x + rectangle_width, y + rectangle_height), (255, 255, 255), -1)"
   ]
  },
  {
   "cell_type": "code",
   "execution_count": 12,
   "metadata": {},
   "outputs": [],
   "source": [
    "def process_masks(mask_dir: str, processed_mask_dir: str, verbose: str = False) -> None:\n",
    "    \"\"\"Process masks by adding a black border to entirely white masks and saving them.\"\"\"\n",
    "\n",
    "    # Get a list of all PNG files in the mask directory\n",
    "    mask_files = [f for f in os.listdir(mask_dir) if f.endswith(\".png\")]\n",
    "    entirely_white_images = []\n",
    "\n",
    "    # Iterate over all mask files\n",
    "    for mask_filename in tqdm(mask_files, desc = \"Processing masks\", unit = \"file\"):\n",
    "        mask_path = os.path.join(mask_dir, mask_filename)\n",
    "        processed_mask_path = os.path.join(processed_mask_dir, mask_filename)\n",
    "        \n",
    "        # Read the mask image into a numpy array\n",
    "        image = cv2.imread(mask_path)\n",
    "        \n",
    "        # Process the images without tumor (entirely white images which need a black border)\n",
    "        if mask_filename.endswith(\"1.png\"):\n",
    "            add_black_border(image)\n",
    "            cv2.imwrite(processed_mask_path, image)\n",
    "\n",
    "        # Process the images with tumor\n",
    "        elif mask_filename.endswith(\"0.png\"):\n",
    "\n",
    "            # Check if the image is entirely white, if so, add a black border\n",
    "            if (image == 255).all():\n",
    "                entirely_white_images.append(mask_filename)\n",
    "                image.fill(0)\n",
    "                add_black_border(image)\n",
    "\n",
    "            # Save the processed mask\n",
    "            cv2.imwrite(processed_mask_path, image)\n",
    "\n",
    "    if verbose and entirely_white_images:\n",
    "        print(\"\\nList of entirely white images processed:\", entirely_white_images)"
   ]
  },
  {
   "cell_type": "code",
   "execution_count": 13,
   "metadata": {},
   "outputs": [
    {
     "name": "stderr",
     "output_type": "stream",
     "text": [
      "Processing masks: 100%|██████████| 2734/2734 [00:11<00:00, 235.86file/s]\n"
     ]
    }
   ],
   "source": [
    "process_masks(mask_dir, processed_mask_dir, verbose = False)"
   ]
  },
  {
   "cell_type": "markdown",
   "metadata": {},
   "source": [
    "### Feature extraction"
   ]
  },
  {
   "cell_type": "code",
   "execution_count": 14,
   "metadata": {},
   "outputs": [
    {
     "name": "stdout",
     "output_type": "stream",
     "text": [
      "Extractor parameters: {'firstorder': [], 'glcm': [], 'gldm': [], 'glrlm': [], 'glszm': [], 'ngtdm': [], 'shape': [], 'shape2D': []}\n",
      "Extractor settings: {'minimumROIDimensions': 2, 'minimumROISize': None, 'normalize': False, 'normalizeScale': 1, 'removeOutliers': None, 'resampledPixelSpacing': None, 'interpolator': 'sitkBSpline', 'preCrop': False, 'padDistance': 5, 'distances': [1], 'force2D': True, 'force2Ddimension': 0, 'resegmentRange': None, 'label': 1, 'additionalInfo': True}\n"
     ]
    }
   ],
   "source": [
    "# Suppress pyradiomics logging and specific warnings\n",
    "radiomics.logger.setLevel(logging.ERROR)\n",
    "warnings.filterwarnings(\"ignore\", category=RuntimeWarning)\n",
    "warnings.filterwarnings(\"ignore\", message=\"Shape features are only available\")\n",
    "\n",
    "# Initialize and configure the feature extractor\n",
    "extractor = featureextractor.RadiomicsFeatureExtractor()\n",
    "extractor.enableAllFeatures()\n",
    "extractor.settings[\"force2D\"] = True\n",
    "\n",
    "# Display configuration details\n",
    "print(\"Extractor parameters:\", extractor.enabledFeatures)\n",
    "print('Extractor settings:', extractor.settings)"
   ]
  },
  {
   "cell_type": "code",
   "execution_count": 15,
   "metadata": {},
   "outputs": [],
   "source": [
    "def extract_features(image_dir: str, mask_dir: str, extractor: featureextractor.RadiomicsFeatureExtractor) -> pd.DataFrame:\n",
    "    \"\"\"Extract radiomics features for all images in the specified directory.\"\"\"\n",
    "    \n",
    "    # Get a list of all PNG files in the image directory\n",
    "    image_files = [f for f in os.listdir(image_dir) if f.endswith(\".png\")]\n",
    "    features_list, errors = [], []\n",
    "    \n",
    "    # Iterate over all image files\n",
    "    for filename in tqdm(image_files, desc = \"Extracting features\", unit = \"file\"):\n",
    "        try:\n",
    "            image_path = os.path.join(image_dir, filename)\n",
    "            processed_mask_path = os.path.join(processed_mask_dir, filename)\n",
    "\n",
    "            # Extract features for the current image\n",
    "            features = extractor.execute(image_path, processed_mask_path, label = 255)\n",
    "\n",
    "            # Convert features to a DataFrame row\n",
    "            features_row_df = pd.DataFrame([features])\n",
    "\n",
    "            # Extract additional metadata from the filename\n",
    "            filename_parts = filename.split(\"_\")\n",
    "            features_row_df['name'] = filename\n",
    "            features_row_df['provider'] = filename_parts[0]\n",
    "            features_row_df['patient'] = filename_parts[1].split(\"-\")[1]\n",
    "            features_row_df['class'] = filename_parts[-1].split(\".\")[0].split(\"-\")[-1]\n",
    "            \n",
    "            features_list.append(features_row_df)\n",
    "\n",
    "        except Exception as e:\n",
    "            errors.append((filename, str(e)))\n",
    "            \n",
    "    # Concatenate all feature rows into a single DataFrame\n",
    "    features_df = pd.concat(features_list, ignore_index=True)\n",
    "    return features_df, errors"
   ]
  },
  {
   "cell_type": "code",
   "execution_count": 16,
   "metadata": {},
   "outputs": [
    {
     "name": "stderr",
     "output_type": "stream",
     "text": [
      "Extracting features: 100%|██████████| 2734/2734 [15:41<00:00,  2.90file/s]\n"
     ]
    }
   ],
   "source": [
    "features_df, errors = extract_features(image_dir, mask_dir, extractor)"
   ]
  },
  {
   "cell_type": "markdown",
   "metadata": {},
   "source": [
    "### Extracted DataFrame info"
   ]
  },
  {
   "cell_type": "code",
   "execution_count": 18,
   "metadata": {},
   "outputs": [
    {
     "name": "stdout",
     "output_type": "stream",
     "text": [
      "Data frame shape is: (2734, 128)\n"
     ]
    },
    {
     "data": {
      "text/html": [
       "<div>\n",
       "<style scoped>\n",
       "    .dataframe tbody tr th:only-of-type {\n",
       "        vertical-align: middle;\n",
       "    }\n",
       "\n",
       "    .dataframe tbody tr th {\n",
       "        vertical-align: top;\n",
       "    }\n",
       "\n",
       "    .dataframe thead th {\n",
       "        text-align: right;\n",
       "    }\n",
       "</style>\n",
       "<table border=\"1\" class=\"dataframe\">\n",
       "  <thead>\n",
       "    <tr style=\"text-align: right;\">\n",
       "      <th></th>\n",
       "      <th>diagnostics_Versions_PyRadiomics</th>\n",
       "      <th>diagnostics_Versions_Numpy</th>\n",
       "      <th>diagnostics_Versions_SimpleITK</th>\n",
       "      <th>diagnostics_Versions_PyWavelet</th>\n",
       "      <th>diagnostics_Versions_Python</th>\n",
       "      <th>diagnostics_Configuration_Settings</th>\n",
       "      <th>diagnostics_Configuration_EnabledImageTypes</th>\n",
       "      <th>diagnostics_Image-original_Hash</th>\n",
       "      <th>diagnostics_Image-original_Dimensionality</th>\n",
       "      <th>diagnostics_Image-original_Spacing</th>\n",
       "      <th>...</th>\n",
       "      <th>original_glszm_ZoneVariance</th>\n",
       "      <th>original_ngtdm_Busyness</th>\n",
       "      <th>original_ngtdm_Coarseness</th>\n",
       "      <th>original_ngtdm_Complexity</th>\n",
       "      <th>original_ngtdm_Contrast</th>\n",
       "      <th>original_ngtdm_Strength</th>\n",
       "      <th>name</th>\n",
       "      <th>provider</th>\n",
       "      <th>patient</th>\n",
       "      <th>class</th>\n",
       "    </tr>\n",
       "  </thead>\n",
       "  <tbody>\n",
       "    <tr>\n",
       "      <th>0</th>\n",
       "      <td>v3.0.1</td>\n",
       "      <td>2.1.0</td>\n",
       "      <td>2.4.0</td>\n",
       "      <td>1.7.0</td>\n",
       "      <td>3.10.9</td>\n",
       "      <td>{'minimumROIDimensions': 2, 'minimumROISize': ...</td>\n",
       "      <td>{'Original': {}}</td>\n",
       "      <td>13f501ab5e4d2d2bee6d5303f0d25f463bef4733</td>\n",
       "      <td>2D</td>\n",
       "      <td>(1.0, 1.0)</td>\n",
       "      <td>...</td>\n",
       "      <td>8113.2926789679705</td>\n",
       "      <td>55.37102726504246</td>\n",
       "      <td>0.004597197237489027</td>\n",
       "      <td>0.010781583643379658</td>\n",
       "      <td>0.00012755862896490924</td>\n",
       "      <td>0.004576659038901602</td>\n",
       "      <td>auth_001-000061_001-000061_MG_BL_Series-8_Imag...</td>\n",
       "      <td>auth</td>\n",
       "      <td>000061</td>\n",
       "      <td>0</td>\n",
       "    </tr>\n",
       "  </tbody>\n",
       "</table>\n",
       "<p>1 rows × 128 columns</p>\n",
       "</div>"
      ],
      "text/plain": [
       "  diagnostics_Versions_PyRadiomics diagnostics_Versions_Numpy  \\\n",
       "0                           v3.0.1                      2.1.0   \n",
       "\n",
       "  diagnostics_Versions_SimpleITK diagnostics_Versions_PyWavelet  \\\n",
       "0                          2.4.0                          1.7.0   \n",
       "\n",
       "  diagnostics_Versions_Python  \\\n",
       "0                      3.10.9   \n",
       "\n",
       "                  diagnostics_Configuration_Settings  \\\n",
       "0  {'minimumROIDimensions': 2, 'minimumROISize': ...   \n",
       "\n",
       "  diagnostics_Configuration_EnabledImageTypes  \\\n",
       "0                            {'Original': {}}   \n",
       "\n",
       "            diagnostics_Image-original_Hash  \\\n",
       "0  13f501ab5e4d2d2bee6d5303f0d25f463bef4733   \n",
       "\n",
       "  diagnostics_Image-original_Dimensionality  \\\n",
       "0                                        2D   \n",
       "\n",
       "  diagnostics_Image-original_Spacing  ... original_glszm_ZoneVariance  \\\n",
       "0                         (1.0, 1.0)  ...          8113.2926789679705   \n",
       "\n",
       "   original_ngtdm_Busyness  original_ngtdm_Coarseness  \\\n",
       "0        55.37102726504246       0.004597197237489027   \n",
       "\n",
       "   original_ngtdm_Complexity original_ngtdm_Contrast original_ngtdm_Strength  \\\n",
       "0       0.010781583643379658  0.00012755862896490924    0.004576659038901602   \n",
       "\n",
       "                                                name provider  patient  class  \n",
       "0  auth_001-000061_001-000061_MG_BL_Series-8_Imag...     auth   000061      0  \n",
       "\n",
       "[1 rows x 128 columns]"
      ]
     },
     "execution_count": 18,
     "metadata": {},
     "output_type": "execute_result"
    }
   ],
   "source": [
    "print('Data frame shape is:', features_df.shape)\n",
    "print(\"Error processing images:\", errors)\n",
    "features_df.head(1)"
   ]
  },
  {
   "cell_type": "markdown",
   "metadata": {},
   "source": [
    "### Save dataframe to excel"
   ]
  },
  {
   "cell_type": "code",
   "execution_count": 19,
   "metadata": {},
   "outputs": [],
   "source": [
    "output_file_name = os.path.join(os.getcwd(), \"data\", \"extracted_features.csv\")\n",
    "features_df.to_csv(output_file_name, index = False)"
   ]
  }
 ],
 "metadata": {
  "kernelspec": {
   "display_name": "big_data_project",
   "language": "python",
   "name": "python3"
  },
  "language_info": {
   "codemirror_mode": {
    "name": "ipython",
    "version": 3
   },
   "file_extension": ".py",
   "mimetype": "text/x-python",
   "name": "python",
   "nbconvert_exporter": "python",
   "pygments_lexer": "ipython3",
   "version": "3.10.9"
  }
 },
 "nbformat": 4,
 "nbformat_minor": 2
}
